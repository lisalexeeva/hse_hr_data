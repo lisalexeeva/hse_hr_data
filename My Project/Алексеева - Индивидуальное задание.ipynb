{
 "cells": [
  {
   "cell_type": "markdown",
   "id": "9873c25f-44c8-4676-897b-9efbb15d6a2f",
   "metadata": {},
   "source": [
    "# Индивидуальный проект\n",
    "\n",
    "Для начала в двух словах о датасете.\n",
    "Для данной работы я воспользовалась общедоступным датасетом, вот отсюда: https://www.kaggle.com/HRAnalyticRepository/absenteeism-dataset.\n",
    "Этот датасет был разработан около 5 лет назад и отражает фейковые значения. Датасет предназначен для тренировок анализа, чем, собственно, я и займусь.\n"
   ]
  },
  {
   "cell_type": "markdown",
   "id": "62f18bb8-1abb-4ab3-998c-470b7be3c6f1",
   "metadata": {},
   "source": [
    "Структура проекта:\n",
    "- Постановка проблемы\n",
    "- Импорт данных, разведочный анализ данных\n",
    "- Предварительная оценка возможных фич\n",
    "- Подготовка пайплайна данных, инжиниринг фич\n",
    "- Подготовка и обучение модели\n",
    "- Выводы"
   ]
  },
  {
   "cell_type": "markdown",
   "id": "a48520a8-c7c3-4180-9607-e18d80135a5f",
   "metadata": {},
   "source": [
    "# Часть 1. Постановка проблемы\n",
    "\n",
    "Нанимая человека на работу, компании покупают его рабочее время. Предполагается, что все рабочее время, кроме основного оплачиваемого отпуска, сотрудник будет посвящать компании. Но зачастую это не так. \n",
    "\n",
    "Сотрудники в рабочее время болеют, отпрашиваются к врачу, встречают родственников с вокзала, справляются с форс-мажорами в виде прорванных труб, лечат животных у ветеринара и так далее. Причин отпроситься на время или на целый рабочий день может быть много. Все это уменьшает то полезное время, которое сотрудник мог бы посвятить делу.\n",
    "\n",
    "Неэффективное использование рабочего времени сотрудников приводит к снижению производительности и сокращению финансовых показателей компании. Многие компании не считают это время. А зря. \n",
    "\n",
    "Данное исследование мы посвятим теме абсентеизма (стремления персонала как можно чаще отсутствовать на рабочем месте). Изучим датасет, выделим корреляции - что влияет на количество часов отсутствия сотрудника на рабочем месте, а также построим модель предсказания этих часов абсентеизма.\n",
    "\n",
    "*Важно: датасет является сам по себе крошечным, можно сказать, игрушечным. Автор датасета предлагает изучить именно взаимосвязь количества часов отсутствия с возрастом сотрудников и их стажем.*"
   ]
  },
  {
   "cell_type": "markdown",
   "id": "e1da2417-fa1e-47c4-817f-f62c82b35439",
   "metadata": {},
   "source": [
    "# Часть 2. Импорт данных. Разведочное исследование\n",
    "\n",
    "У нас есть датасет с сотрудниками и некоторой информацией по ним. \n",
    "\n",
    "Задача: базово понять фактуру по этому датасету в течение короткого периода времени (20-30 минут), прикинуть какие-то направления для дальнейшего исследования."
   ]
  },
  {
   "cell_type": "code",
   "execution_count": 3,
   "id": "932ca26d-a02d-4e29-ba11-1de1cfc5542f",
   "metadata": {},
   "outputs": [],
   "source": [
    "# Импортируем библиотеку для работы с данными Pandas\n",
    "import pandas as pd"
   ]
  },
  {
   "cell_type": "code",
   "execution_count": 4,
   "id": "5989879f-feee-4942-b2ba-f999f32667b4",
   "metadata": {},
   "outputs": [],
   "source": [
    "# Загрузим CSV-файл с данными (CSV-файл лежит рядом с исполняемым блокнотом)\n",
    "df_hr = pd.read_csv('Absenteeism Dataset.csv')"
   ]
  },
  {
   "cell_type": "code",
   "execution_count": 5,
   "id": "5a4929c9-ece0-4f26-b2d2-251b7d8c3eb8",
   "metadata": {},
   "outputs": [
    {
     "data": {
      "text/html": [
       "<div>\n",
       "<style scoped>\n",
       "    .dataframe tbody tr th:only-of-type {\n",
       "        vertical-align: middle;\n",
       "    }\n",
       "\n",
       "    .dataframe tbody tr th {\n",
       "        vertical-align: top;\n",
       "    }\n",
       "\n",
       "    .dataframe thead th {\n",
       "        text-align: right;\n",
       "    }\n",
       "</style>\n",
       "<table border=\"1\" class=\"dataframe\">\n",
       "  <thead>\n",
       "    <tr style=\"text-align: right;\">\n",
       "      <th></th>\n",
       "      <th>EmployeeNumber</th>\n",
       "      <th>Surname</th>\n",
       "      <th>GivenName</th>\n",
       "      <th>Gender</th>\n",
       "      <th>City</th>\n",
       "      <th>JobTitle</th>\n",
       "      <th>DepartmentName</th>\n",
       "      <th>StoreLocation</th>\n",
       "      <th>Division</th>\n",
       "      <th>Age</th>\n",
       "      <th>LengthService</th>\n",
       "      <th>AbsentHours</th>\n",
       "      <th>BusinessUnit</th>\n",
       "    </tr>\n",
       "  </thead>\n",
       "  <tbody>\n",
       "    <tr>\n",
       "      <th>0</th>\n",
       "      <td>1</td>\n",
       "      <td>Gutierrez</td>\n",
       "      <td>Molly</td>\n",
       "      <td>F</td>\n",
       "      <td>Burnaby</td>\n",
       "      <td>Baker</td>\n",
       "      <td>Bakery</td>\n",
       "      <td>Burnaby</td>\n",
       "      <td>Stores</td>\n",
       "      <td>32.028816</td>\n",
       "      <td>6.018478</td>\n",
       "      <td>36.577306</td>\n",
       "      <td>Stores</td>\n",
       "    </tr>\n",
       "    <tr>\n",
       "      <th>1</th>\n",
       "      <td>2</td>\n",
       "      <td>Hardwick</td>\n",
       "      <td>Stephen</td>\n",
       "      <td>M</td>\n",
       "      <td>Courtenay</td>\n",
       "      <td>Baker</td>\n",
       "      <td>Bakery</td>\n",
       "      <td>Nanaimo</td>\n",
       "      <td>Stores</td>\n",
       "      <td>40.320902</td>\n",
       "      <td>5.532445</td>\n",
       "      <td>30.165072</td>\n",
       "      <td>Stores</td>\n",
       "    </tr>\n",
       "    <tr>\n",
       "      <th>2</th>\n",
       "      <td>3</td>\n",
       "      <td>Delgado</td>\n",
       "      <td>Chester</td>\n",
       "      <td>M</td>\n",
       "      <td>Richmond</td>\n",
       "      <td>Baker</td>\n",
       "      <td>Bakery</td>\n",
       "      <td>Richmond</td>\n",
       "      <td>Stores</td>\n",
       "      <td>48.822047</td>\n",
       "      <td>4.389973</td>\n",
       "      <td>83.807798</td>\n",
       "      <td>Stores</td>\n",
       "    </tr>\n",
       "    <tr>\n",
       "      <th>3</th>\n",
       "      <td>4</td>\n",
       "      <td>Simon</td>\n",
       "      <td>Irene</td>\n",
       "      <td>F</td>\n",
       "      <td>Victoria</td>\n",
       "      <td>Baker</td>\n",
       "      <td>Bakery</td>\n",
       "      <td>Victoria</td>\n",
       "      <td>Stores</td>\n",
       "      <td>44.599357</td>\n",
       "      <td>3.081736</td>\n",
       "      <td>70.020165</td>\n",
       "      <td>Stores</td>\n",
       "    </tr>\n",
       "    <tr>\n",
       "      <th>4</th>\n",
       "      <td>5</td>\n",
       "      <td>Delvalle</td>\n",
       "      <td>Edward</td>\n",
       "      <td>M</td>\n",
       "      <td>New Westminster</td>\n",
       "      <td>Baker</td>\n",
       "      <td>Bakery</td>\n",
       "      <td>New Westminster</td>\n",
       "      <td>Stores</td>\n",
       "      <td>35.697876</td>\n",
       "      <td>3.619091</td>\n",
       "      <td>0.000000</td>\n",
       "      <td>Stores</td>\n",
       "    </tr>\n",
       "    <tr>\n",
       "      <th>...</th>\n",
       "      <td>...</td>\n",
       "      <td>...</td>\n",
       "      <td>...</td>\n",
       "      <td>...</td>\n",
       "      <td>...</td>\n",
       "      <td>...</td>\n",
       "      <td>...</td>\n",
       "      <td>...</td>\n",
       "      <td>...</td>\n",
       "      <td>...</td>\n",
       "      <td>...</td>\n",
       "      <td>...</td>\n",
       "      <td>...</td>\n",
       "    </tr>\n",
       "    <tr>\n",
       "      <th>8331</th>\n",
       "      <td>8332</td>\n",
       "      <td>Coniglio</td>\n",
       "      <td>Bianca</td>\n",
       "      <td>F</td>\n",
       "      <td>Langley</td>\n",
       "      <td>Cashier</td>\n",
       "      <td>Customer Service</td>\n",
       "      <td>Langley</td>\n",
       "      <td>Stores</td>\n",
       "      <td>46.057544</td>\n",
       "      <td>4.838288</td>\n",
       "      <td>93.665111</td>\n",
       "      <td>Stores</td>\n",
       "    </tr>\n",
       "    <tr>\n",
       "      <th>8332</th>\n",
       "      <td>8333</td>\n",
       "      <td>Cox</td>\n",
       "      <td>Jimmie</td>\n",
       "      <td>M</td>\n",
       "      <td>Montney</td>\n",
       "      <td>Cashier</td>\n",
       "      <td>Customer Service</td>\n",
       "      <td>Fort St John</td>\n",
       "      <td>Stores</td>\n",
       "      <td>34.455490</td>\n",
       "      <td>2.427274</td>\n",
       "      <td>0.000000</td>\n",
       "      <td>Stores</td>\n",
       "    </tr>\n",
       "    <tr>\n",
       "      <th>8333</th>\n",
       "      <td>8334</td>\n",
       "      <td>Hawkins</td>\n",
       "      <td>Mary</td>\n",
       "      <td>F</td>\n",
       "      <td>West Vancouver</td>\n",
       "      <td>Cashier</td>\n",
       "      <td>Customer Service</td>\n",
       "      <td>West Vancouver</td>\n",
       "      <td>Stores</td>\n",
       "      <td>58.347160</td>\n",
       "      <td>4.009393</td>\n",
       "      <td>176.356940</td>\n",
       "      <td>Stores</td>\n",
       "    </tr>\n",
       "    <tr>\n",
       "      <th>8334</th>\n",
       "      <td>8335</td>\n",
       "      <td>Proctor</td>\n",
       "      <td>Theresa</td>\n",
       "      <td>F</td>\n",
       "      <td>Vancouver</td>\n",
       "      <td>Dairy Person</td>\n",
       "      <td>Dairy</td>\n",
       "      <td>Vancouver</td>\n",
       "      <td>Stores</td>\n",
       "      <td>43.340616</td>\n",
       "      <td>6.154837</td>\n",
       "      <td>60.321917</td>\n",
       "      <td>Stores</td>\n",
       "    </tr>\n",
       "    <tr>\n",
       "      <th>8335</th>\n",
       "      <td>8336</td>\n",
       "      <td>Salter</td>\n",
       "      <td>Charles</td>\n",
       "      <td>M</td>\n",
       "      <td>Vancouver</td>\n",
       "      <td>Dairy Person</td>\n",
       "      <td>Dairy</td>\n",
       "      <td>Vancouver</td>\n",
       "      <td>Stores</td>\n",
       "      <td>46.192782</td>\n",
       "      <td>5.174722</td>\n",
       "      <td>112.023389</td>\n",
       "      <td>Stores</td>\n",
       "    </tr>\n",
       "  </tbody>\n",
       "</table>\n",
       "<p>8336 rows × 13 columns</p>\n",
       "</div>"
      ],
      "text/plain": [
       "      EmployeeNumber    Surname GivenName Gender             City  \\\n",
       "0                  1  Gutierrez     Molly      F          Burnaby   \n",
       "1                  2   Hardwick   Stephen      M        Courtenay   \n",
       "2                  3    Delgado   Chester      M         Richmond   \n",
       "3                  4      Simon     Irene      F         Victoria   \n",
       "4                  5   Delvalle    Edward      M  New Westminster   \n",
       "...              ...        ...       ...    ...              ...   \n",
       "8331            8332   Coniglio    Bianca      F          Langley   \n",
       "8332            8333        Cox    Jimmie      M          Montney   \n",
       "8333            8334    Hawkins      Mary      F   West Vancouver   \n",
       "8334            8335    Proctor   Theresa      F        Vancouver   \n",
       "8335            8336     Salter   Charles      M        Vancouver   \n",
       "\n",
       "          JobTitle    DepartmentName    StoreLocation Division        Age  \\\n",
       "0            Baker            Bakery          Burnaby   Stores  32.028816   \n",
       "1            Baker            Bakery          Nanaimo   Stores  40.320902   \n",
       "2            Baker            Bakery         Richmond   Stores  48.822047   \n",
       "3            Baker            Bakery         Victoria   Stores  44.599357   \n",
       "4            Baker            Bakery  New Westminster   Stores  35.697876   \n",
       "...            ...               ...              ...      ...        ...   \n",
       "8331       Cashier  Customer Service          Langley   Stores  46.057544   \n",
       "8332       Cashier  Customer Service     Fort St John   Stores  34.455490   \n",
       "8333       Cashier  Customer Service   West Vancouver   Stores  58.347160   \n",
       "8334  Dairy Person             Dairy        Vancouver   Stores  43.340616   \n",
       "8335  Dairy Person             Dairy        Vancouver   Stores  46.192782   \n",
       "\n",
       "      LengthService  AbsentHours BusinessUnit  \n",
       "0          6.018478    36.577306       Stores  \n",
       "1          5.532445    30.165072       Stores  \n",
       "2          4.389973    83.807798       Stores  \n",
       "3          3.081736    70.020165       Stores  \n",
       "4          3.619091     0.000000       Stores  \n",
       "...             ...          ...          ...  \n",
       "8331       4.838288    93.665111       Stores  \n",
       "8332       2.427274     0.000000       Stores  \n",
       "8333       4.009393   176.356940       Stores  \n",
       "8334       6.154837    60.321917       Stores  \n",
       "8335       5.174722   112.023389       Stores  \n",
       "\n",
       "[8336 rows x 13 columns]"
      ]
     },
     "execution_count": 5,
     "metadata": {},
     "output_type": "execute_result"
    }
   ],
   "source": [
    "# Частично отрисуем этот датасет на экран\n",
    "df_hr"
   ]
  },
  {
   "cell_type": "markdown",
   "id": "5aed5983-41ff-440e-8b71-baf86ccb59bd",
   "metadata": {},
   "source": [
    "Наш датасет представляет из себя набор данных о 8335 сотрудниках. Он содержит информацию такую, как:\n",
    "- Имя и фамилия сотрудника\n",
    "- Гендер\n",
    "- Город \n",
    "- Должность\n",
    "- Название департамента\n",
    "- Возраст\n",
    "- Стаж в этой компании\n",
    "- Количество часов, проведенных вне рабочего места"
   ]
  },
  {
   "cell_type": "code",
   "execution_count": 9,
   "id": "f4d4a01d-56b2-4931-b8ba-baf0d37feae6",
   "metadata": {},
   "outputs": [
    {
     "name": "stdout",
     "output_type": "stream",
     "text": [
      "<class 'pandas.core.frame.DataFrame'>\n",
      "RangeIndex: 8336 entries, 0 to 8335\n",
      "Data columns (total 13 columns):\n",
      " #   Column          Non-Null Count  Dtype  \n",
      "---  ------          --------------  -----  \n",
      " 0   EmployeeNumber  8336 non-null   int64  \n",
      " 1   Surname         8336 non-null   object \n",
      " 2   GivenName       8336 non-null   object \n",
      " 3   Gender          8336 non-null   object \n",
      " 4   City            8336 non-null   object \n",
      " 5   JobTitle        8336 non-null   object \n",
      " 6   DepartmentName  8336 non-null   object \n",
      " 7   StoreLocation   8336 non-null   object \n",
      " 8   Division        8336 non-null   object \n",
      " 9   Age             8336 non-null   float64\n",
      " 10  LengthService   8336 non-null   float64\n",
      " 11  AbsentHours     8336 non-null   float64\n",
      " 12  BusinessUnit    8336 non-null   object \n",
      "dtypes: float64(3), int64(1), object(9)\n",
      "memory usage: 846.8+ KB\n"
     ]
    }
   ],
   "source": [
    "# Проверим датасет на наличие пустых значений при помощи метода .info()\n",
    "\n",
    "df_hr.info()"
   ]
  },
  {
   "cell_type": "markdown",
   "id": "a740f07d-d56c-4c49-980a-475a9c00dec1",
   "metadata": {},
   "source": [
    "\n",
    "Мы проверили датасет на наличие пустых значений. \n",
    "\n",
    "Пустых значений не обнаружено! :)\n"
   ]
  },
  {
   "cell_type": "code",
   "execution_count": 12,
   "id": "a4f3f9e6-5107-40c2-85c2-ae67aed473d7",
   "metadata": {},
   "outputs": [
    {
     "data": {
      "text/html": [
       "<div>\n",
       "<style scoped>\n",
       "    .dataframe tbody tr th:only-of-type {\n",
       "        vertical-align: middle;\n",
       "    }\n",
       "\n",
       "    .dataframe tbody tr th {\n",
       "        vertical-align: top;\n",
       "    }\n",
       "\n",
       "    .dataframe thead th {\n",
       "        text-align: right;\n",
       "    }\n",
       "</style>\n",
       "<table border=\"1\" class=\"dataframe\">\n",
       "  <thead>\n",
       "    <tr style=\"text-align: right;\">\n",
       "      <th></th>\n",
       "      <th>EmployeeNumber</th>\n",
       "      <th>Age</th>\n",
       "      <th>LengthService</th>\n",
       "      <th>AbsentHours</th>\n",
       "    </tr>\n",
       "  </thead>\n",
       "  <tbody>\n",
       "    <tr>\n",
       "      <th>count</th>\n",
       "      <td>8336.000000</td>\n",
       "      <td>8336.000000</td>\n",
       "      <td>8336.000000</td>\n",
       "      <td>8336.000000</td>\n",
       "    </tr>\n",
       "    <tr>\n",
       "      <th>mean</th>\n",
       "      <td>4168.500000</td>\n",
       "      <td>42.007086</td>\n",
       "      <td>4.782910</td>\n",
       "      <td>61.283978</td>\n",
       "    </tr>\n",
       "    <tr>\n",
       "      <th>std</th>\n",
       "      <td>2406.540255</td>\n",
       "      <td>9.939798</td>\n",
       "      <td>2.462990</td>\n",
       "      <td>49.038365</td>\n",
       "    </tr>\n",
       "    <tr>\n",
       "      <th>min</th>\n",
       "      <td>1.000000</td>\n",
       "      <td>3.504743</td>\n",
       "      <td>0.012098</td>\n",
       "      <td>0.000000</td>\n",
       "    </tr>\n",
       "    <tr>\n",
       "      <th>25%</th>\n",
       "      <td>2084.750000</td>\n",
       "      <td>35.298748</td>\n",
       "      <td>3.575892</td>\n",
       "      <td>19.127590</td>\n",
       "    </tr>\n",
       "    <tr>\n",
       "      <th>50%</th>\n",
       "      <td>4168.500000</td>\n",
       "      <td>42.114924</td>\n",
       "      <td>4.600248</td>\n",
       "      <td>56.005808</td>\n",
       "    </tr>\n",
       "    <tr>\n",
       "      <th>75%</th>\n",
       "      <td>6252.250000</td>\n",
       "      <td>48.666943</td>\n",
       "      <td>5.623922</td>\n",
       "      <td>94.284692</td>\n",
       "    </tr>\n",
       "    <tr>\n",
       "      <th>max</th>\n",
       "      <td>8336.000000</td>\n",
       "      <td>77.938003</td>\n",
       "      <td>43.735239</td>\n",
       "      <td>272.530123</td>\n",
       "    </tr>\n",
       "  </tbody>\n",
       "</table>\n",
       "</div>"
      ],
      "text/plain": [
       "       EmployeeNumber          Age  LengthService  AbsentHours\n",
       "count     8336.000000  8336.000000    8336.000000  8336.000000\n",
       "mean      4168.500000    42.007086       4.782910    61.283978\n",
       "std       2406.540255     9.939798       2.462990    49.038365\n",
       "min          1.000000     3.504743       0.012098     0.000000\n",
       "25%       2084.750000    35.298748       3.575892    19.127590\n",
       "50%       4168.500000    42.114924       4.600248    56.005808\n",
       "75%       6252.250000    48.666943       5.623922    94.284692\n",
       "max       8336.000000    77.938003      43.735239   272.530123"
      ]
     },
     "execution_count": 12,
     "metadata": {},
     "output_type": "execute_result"
    }
   ],
   "source": [
    "df_hr.describe()"
   ]
  },
  {
   "cell_type": "markdown",
   "id": "dd886359-da7a-4aef-b9c0-2a1f54ca98d3",
   "metadata": {},
   "source": [
    "Благодаря таблице мы можем чуть лучше понять наш датасет.\n",
    "Так, становится очевидным, что средний возраст сотрудников - 42 года, максимальный - 77 лет. \n",
    "В среднем стаж составляет около 5 лет.\n",
    "Всего сотрудниками пропущенно 8336 рабочих часов - руководству стоит, конечно, об этом задуматься!"
   ]
  },
  {
   "cell_type": "code",
   "execution_count": 25,
   "id": "7c3e2a67-9c0c-4e6d-88d3-a18d038d31f2",
   "metadata": {},
   "outputs": [
    {
     "data": {
      "text/plain": [
       "array([[<AxesSubplot:title={'center':'EmployeeNumber'}>,\n",
       "        <AxesSubplot:title={'center':'Age'}>],\n",
       "       [<AxesSubplot:title={'center':'LengthService'}>,\n",
       "        <AxesSubplot:title={'center':'AbsentHours'}>]], dtype=object)"
      ]
     },
     "execution_count": 25,
     "metadata": {},
     "output_type": "execute_result"
    },
    {
     "data": {
      "image/png": "[encoded data removed]",
      "text/plain": [
       "<Figure size 720x720 with 4 Axes>"
      ]
     },
     "metadata": {
      "needs_background": "light"
     },
     "output_type": "display_data"
    }
   ],
   "source": [
    "df_hr.hist(figsize=(10,10))\n",
    "plt.show()"
   ]
  },
  {
   "cell_type": "markdown",
   "id": "5d965e65-a397-4eff-8719-c9bd9e7471a7",
   "metadata": {},
   "source": [
    "Благодаря диаграммам выше видим, что:\n",
    "- Распределение по возрасту является скорее нормальным\n",
    "- Распределение по стажу не является нормальным и содержит явные выбросы\n",
    "- Распределение по кол-ву часов вне рабочего места является скорее экспоненциальным"
   ]
  },
  {
   "cell_type": "markdown",
   "id": "ef25dd5f-9efb-40c3-8e1e-b5b177bf54f2",
   "metadata": {},
   "source": [
    "Посмотрим каждую из переменных набора данных поближе."
   ]
  },
  {
   "cell_type": "code",
   "execution_count": 42,
   "id": "d19803e9-92b3-48bd-af5a-d11e4bc5d550",
   "metadata": {},
   "outputs": [
    {
     "data": {
      "text/plain": [
       "M    4216\n",
       "F    4120\n",
       "Name: Gender, dtype: int64"
      ]
     },
     "execution_count": 42,
     "metadata": {},
     "output_type": "execute_result"
    }
   ],
   "source": [
    "# Проверим, сколько у нас мужчин и женщин в выборке\n",
    "df_hr['Gender'].value_counts()"
   ]
  },
  {
   "cell_type": "code",
   "execution_count": 36,
   "id": "e095564c-ec71-4de5-ac8d-229315197d7b",
   "metadata": {},
   "outputs": [
    {
     "data": {
      "text/plain": [
       "47"
      ]
     },
     "execution_count": 36,
     "metadata": {},
     "output_type": "execute_result"
    }
   ],
   "source": [
    "# Проверим, сколько у нас уникальных значений в столбце должности\n",
    "df_hr['JobTitle'].nunique()"
   ]
  },
  {
   "cell_type": "code",
   "execution_count": 34,
   "id": "e441b502-cc56-4ade-b24a-4ea76705351e",
   "metadata": {},
   "outputs": [
    {
     "data": {
      "text/plain": [
       "array(['Baker', 'Accounting Clerk', 'Accounts Payable Clerk',\n",
       "       'Accounts Receiveable Clerk', 'Auditor', 'Bakery Manager',\n",
       "       'Benefits Admin', 'Cashier', 'Compensation Analyst',\n",
       "       'HRIS Analyst', 'Investment Analyst', 'Labor Relations Analyst',\n",
       "       'Recruiter', 'Dairy Person', 'Systems Analyst', 'Trainer',\n",
       "       'Meat Cutter', 'CEO', 'VP Stores', 'Legal Counsel',\n",
       "       'VP Human Resources', 'VP Finance', 'Exec Assistant, VP Stores',\n",
       "       'Exec Assistant, Human Resources', 'Exec Assistant, Legal Counsel',\n",
       "       'CHief Information Officer', 'Store Manager', 'Meats Manager',\n",
       "       'Exec Assistant, Finance', 'Director, Recruitment',\n",
       "       'Director, Training', 'Director, Labor Relations',\n",
       "       'Director, HR Technology', 'Director, Employee Records',\n",
       "       'Director, Compensation', 'Corporate Lawyer', 'Produce Manager',\n",
       "       'Director, Accounts Receivable', 'Director, Accounts Payable',\n",
       "       'Director, Audit', 'Director, Accounting', 'Director, Investments',\n",
       "       'Processed Foods Manager', 'Customer Service Manager',\n",
       "       'Dairy Manager', 'Produce Clerk', 'Shelf Stocker'], dtype=object)"
      ]
     },
     "execution_count": 34,
     "metadata": {},
     "output_type": "execute_result"
    }
   ],
   "source": [
    "# Теперь глянем, что это за должности?\n",
    "df_hr['JobTitle'].unique()"
   ]
  },
  {
   "cell_type": "code",
   "execution_count": 37,
   "id": "56d8c81b-3e12-489a-8346-d0070c643918",
   "metadata": {},
   "outputs": [
    {
     "data": {
      "text/plain": [
       "243"
      ]
     },
     "execution_count": 37,
     "metadata": {},
     "output_type": "execute_result"
    }
   ],
   "source": [
    "# Проверим, сколько у нас уникальных значений в столбце города\n",
    "df_hr['City'].nunique()"
   ]
  },
  {
   "cell_type": "code",
   "execution_count": 38,
   "id": "f1ef35d1-b901-4292-bb44-898140d7d09c",
   "metadata": {},
   "outputs": [
    {
     "data": {
      "text/plain": [
       "array(['Burnaby', 'Courtenay', 'Richmond', 'Victoria', 'New Westminster',\n",
       "       'Vancouver', 'Sechelt', 'Kamloops', 'North Vancouver', 'Vananda',\n",
       "       'West Vancouver', 'Nanaimo', 'Aldergrove', 'Kelowna', 'Trail',\n",
       "       'Penticton', 'Duncan', 'Crawford Bay', 'Port Hardy', 'Logan Lake',\n",
       "       'Abbotsford', 'Dawson Creek', 'Surrey', 'Squamish',\n",
       "       'Good Hope Lake', 'Sidney', 'Coquitlam', 'Chilliwack',\n",
       "       'Okanagan Mission', 'Ganges', 'Prince George', 'Atlin', 'Whistler',\n",
       "       'Spences Bridge', 'New Westminister', 'Gibsons', 'Vernon',\n",
       "       'Fauquier', 'Mackenzie', 'Gold Bridge', 'Fort Fraser', 'Nelson',\n",
       "       'Kaslo', 'Creston', 'Wynndel', 'Muncho Lake', 'Kitimat',\n",
       "       'Lac La Hache', 'Armstrong', 'Quesnel', 'Hixon', 'Ocean Falls',\n",
       "       'Vallican', 'North Pender Island', 'Montney', 'Burns Lake',\n",
       "       'Midway', 'Westwold', 'Terrace', 'Golden', 'Port Coquitlam',\n",
       "       'White Rock', 'Summerland', 'Langley', 'Huntingdon', 'Yale',\n",
       "       'Aiyansh', 'Haney', 'Bowen Island', 'Fort Langley', 'Clinton',\n",
       "       'Cassiar', 'Pender Harbour', 'Parksville', 'Mcleese Lake',\n",
       "       'Fort St John', 'Campbell River', 'Wells', 'Manning Park',\n",
       "       'Decker Lake', 'Salmon Arm', 'Sooke', 'Horsefly', 'Invermere',\n",
       "       'Topley', 'Field', 'Youbou', 'Sorrento', 'Merritt', 'Rossland',\n",
       "       'Castlegar', 'Williams Lake', 'Willow Point', 'Woss',\n",
       "       'Cobble Hill', 'Bob Quinn Lake', 'Hedley', 'Sardis', 'Sparwood',\n",
       "       'Port Mcneill', 'Salmon Valley', 'Agassiz', 'Avola', 'Bear Lake',\n",
       "       'Brackendale', 'Skookumchuck', 'Cranbrook', 'Britannia Beach',\n",
       "       'Comox', 'Flatrock', 'Princeton', 'Fort Nelson', 'Slocan', 'Lumby',\n",
       "       'Chase', 'Boston Bar', 'Port Alberni', 'Union Bay',\n",
       "       'Francois Lake', 'Chief Lake', 'Beaver Valley', 'Oyster River',\n",
       "       \"D'arcy\", 'Winfield', 'Valemount', 'Port Alice',\n",
       "       'Lakeview Heights', 'Canal Flats', 'Tofino', 'Mayne Island',\n",
       "       'Bamfield', 'Chilako River', 'Grasmere', 'Clearwater', 'Osoyoos',\n",
       "       'Grassy Plains', 'Fulford Harbour', 'Keremeos', 'Fort St James',\n",
       "       'Pitt Meadows', 'Lakelse Lake', 'Genelle', 'Iskut',\n",
       "       'Qualicum Beach', 'Oyama', 'Lillooet', 'Ladysmith', 'Chemainus',\n",
       "       'Douglas Lake', 'Yarrow', 'Elkford', 'Telegraph Creek', 'Mission',\n",
       "       'Fruitvale', 'Vanderhoof', 'Powell River', 'Pemberton',\n",
       "       'Tumbler Ridge', 'Chilanko Forks', 'Ashcroft', 'Klemtu',\n",
       "       'Cumberland', 'Port Mellon', 'Cortes Island', 'Jaffray',\n",
       "       'Black Point', 'Forest Grove', 'Grand Forks', 'Hazelton',\n",
       "       'Chetwynd', 'Riske Creek', 'Nakusp', 'Rutland', 'Bouchie Lake',\n",
       "       'Greenwood', 'Westbank', 'Houston', 'Gabriola Island',\n",
       "       'Port Renfrew', 'Wildwood', 'Port Edward', 'Balfour', 'Pritchard',\n",
       "       'Nimpo Lake', 'Black Pool', 'Vavenby', 'Oliver', 'Hemlock Valley',\n",
       "       'Bella Bella', 'Alexis Creek', 'Parson', 'Fraser Lake',\n",
       "       'Seton Portage', 'Rock Creek', 'Kimberley', 'Mcbride', 'Peachland',\n",
       "       'Dragon Lake', 'Tappen', 'Taylor', 'Salmo', 'Hansard',\n",
       "       'Dease Lake', 'Giscome', 'Granisle', 'Ucluelet', 'Blue River',\n",
       "       'Kitwanga', 'Mica Creek', 'Fernie', 'Pouce Coupe', 'Rosedale',\n",
       "       'Bougie Creek', 'Bridge Lake', 'Lake Cowichan', 'Revelstoke',\n",
       "       'Tatla Lake', 'Enderby', 'Hope', 'Radium Hot Springs', 'Sayward',\n",
       "       'Lower Post', 'South Slocan', 'Yahk', 'Elko', 'Christina Lake',\n",
       "       'Cluculz Lake', 'Toad River', 'Celista', 'Smithers', 'Little Fort',\n",
       "       'Sandspit', 'Quadra Island', 'Blueberry', 'Okanagan Falls',\n",
       "       'Cache Creek', 'Barriere', 'Lytton', 'Sicamous', 'Likely',\n",
       "       'Fairmont Hot Springs', 'Alkali Lake', 'Spillimacheen'],\n",
       "      dtype=object)"
      ]
     },
     "execution_count": 38,
     "metadata": {},
     "output_type": "execute_result"
    }
   ],
   "source": [
    "# Теперь глянем, что это за города?\n",
    "df_hr['City'].unique()"
   ]
  },
  {
   "cell_type": "markdown",
   "id": "15db84ad-cbc0-414d-a754-9e5ecfd17c7f",
   "metadata": {},
   "source": [
    "# Часть 3. Предварительная оценка возможных фич\n",
    "\n",
    "В следующей части проекта мы сформулируем гипотезы.\n",
    "\n",
    "Гипотеза 1. Существует положительная связь между возрастом сотрудника и количеством часов, проведенных вне рабочего места.\n",
    "\n",
    "Гипотеза 2. Существует связь между стажем сотрудника и количеством часов, проведенных вне рабочего места."
   ]
  },
  {
   "cell_type": "markdown",
   "id": "3939f300-06f2-4e1b-a8b1-9aef7320328a",
   "metadata": {},
   "source": [
    "Проверим выдвинутые две выше гипотезы."
   ]
  },
  {
   "cell_type": "code",
   "execution_count": 28,
   "id": "6b6d761f-c69f-4a09-86b3-b4395d1fe15e",
   "metadata": {},
   "outputs": [
    {
     "data": {
      "text/html": [
       "<div>\n",
       "<style scoped>\n",
       "    .dataframe tbody tr th:only-of-type {\n",
       "        vertical-align: middle;\n",
       "    }\n",
       "\n",
       "    .dataframe tbody tr th {\n",
       "        vertical-align: top;\n",
       "    }\n",
       "\n",
       "    .dataframe thead th {\n",
       "        text-align: right;\n",
       "    }\n",
       "</style>\n",
       "<table border=\"1\" class=\"dataframe\">\n",
       "  <thead>\n",
       "    <tr style=\"text-align: right;\">\n",
       "      <th></th>\n",
       "      <th>EmployeeNumber</th>\n",
       "      <th>Age</th>\n",
       "      <th>LengthService</th>\n",
       "      <th>AbsentHours</th>\n",
       "    </tr>\n",
       "  </thead>\n",
       "  <tbody>\n",
       "    <tr>\n",
       "      <th>EmployeeNumber</th>\n",
       "      <td>1.000000</td>\n",
       "      <td>-0.018445</td>\n",
       "      <td>-0.119631</td>\n",
       "      <td>0.007418</td>\n",
       "    </tr>\n",
       "    <tr>\n",
       "      <th>Age</th>\n",
       "      <td>-0.018445</td>\n",
       "      <td>1.000000</td>\n",
       "      <td>0.053104</td>\n",
       "      <td>0.830234</td>\n",
       "    </tr>\n",
       "    <tr>\n",
       "      <th>LengthService</th>\n",
       "      <td>-0.119631</td>\n",
       "      <td>0.053104</td>\n",
       "      <td>1.000000</td>\n",
       "      <td>-0.044202</td>\n",
       "    </tr>\n",
       "    <tr>\n",
       "      <th>AbsentHours</th>\n",
       "      <td>0.007418</td>\n",
       "      <td>0.830234</td>\n",
       "      <td>-0.044202</td>\n",
       "      <td>1.000000</td>\n",
       "    </tr>\n",
       "  </tbody>\n",
       "</table>\n",
       "</div>"
      ],
      "text/plain": [
       "                EmployeeNumber       Age  LengthService  AbsentHours\n",
       "EmployeeNumber        1.000000 -0.018445      -0.119631     0.007418\n",
       "Age                  -0.018445  1.000000       0.053104     0.830234\n",
       "LengthService        -0.119631  0.053104       1.000000    -0.044202\n",
       "AbsentHours           0.007418  0.830234      -0.044202     1.000000"
      ]
     },
     "execution_count": 28,
     "metadata": {},
     "output_type": "execute_result"
    }
   ],
   "source": [
    "# Pandas имеет один волшебный метод, который сразу считает матрицу корреляций по всему фрейму\n",
    "df_hr.corr()"
   ]
  },
  {
   "cell_type": "markdown",
   "id": "df046bb8-fe15-4356-9ee9-c9b62b21491f",
   "metadata": {},
   "source": [
    "Таким образом, мы видим, из таблицы выше, есть ли между переменными связь.\n",
    "\n",
    "Гипотеза 1: подтверждена. Коэффициент корреляции между значениям Age & AbsentHours равен 0,83, что говорит о сильной положительной связи. То есть, чем старше сотрудник, тем больше часов от отсутствует на рабочем месте.\n",
    "Это может быть объяснено рядом факторов: к примеру, с возрастом у людей появляется больше обязательств - дети, которые болеют или которых надо срочно забрать из детского сада. Также с возрастом у людей появляется больше проблем со здоровьем - они чаще ходят в больницу, берут больничные, проходят обследования.\n",
    "\n",
    "Гипотеза 2: не подтверждена. Коэффициент корреляции между значениям LenghService & AbsentHours равен -0,04, что говорит о незначительной отрицательной связи. "
   ]
  },
  {
   "cell_type": "markdown",
   "id": "22b169ac-f3bb-4149-b545-d9f787b4ec33",
   "metadata": {},
   "source": [
    "# Часть 4. Подготовка пайплайна данных, инжиниринг фич"
   ]
  },
  {
   "cell_type": "code",
   "execution_count": 73,
   "id": "1cd3f64d-94ed-4a6c-b39f-6ac70c199a33",
   "metadata": {},
   "outputs": [],
   "source": [
    "from sklearn.datasets import make_regression\n",
    "from sklearn.linear_model import LinearRegression\n",
    "\n",
    "from matplotlib import pyplot"
   ]
  },
  {
   "cell_type": "code",
   "execution_count": 74,
   "id": "8592fbaf-c52c-4a5e-8088-365ae4571923",
   "metadata": {},
   "outputs": [],
   "source": [
    "pd.options.display.max_columns = 999"
   ]
  },
  {
   "cell_type": "code",
   "execution_count": 75,
   "id": "d36272fc-0e71-48f2-a71a-424524e83cbe",
   "metadata": {},
   "outputs": [
    {
     "data": {
      "text/html": [
       "<div>\n",
       "<style scoped>\n",
       "    .dataframe tbody tr th:only-of-type {\n",
       "        vertical-align: middle;\n",
       "    }\n",
       "\n",
       "    .dataframe tbody tr th {\n",
       "        vertical-align: top;\n",
       "    }\n",
       "\n",
       "    .dataframe thead th {\n",
       "        text-align: right;\n",
       "    }\n",
       "</style>\n",
       "<table border=\"1\" class=\"dataframe\">\n",
       "  <thead>\n",
       "    <tr style=\"text-align: right;\">\n",
       "      <th></th>\n",
       "      <th>EmployeeNumber</th>\n",
       "      <th>Surname</th>\n",
       "      <th>GivenName</th>\n",
       "      <th>Gender</th>\n",
       "      <th>City</th>\n",
       "      <th>JobTitle</th>\n",
       "      <th>DepartmentName</th>\n",
       "      <th>StoreLocation</th>\n",
       "      <th>Division</th>\n",
       "      <th>Age</th>\n",
       "      <th>LengthService</th>\n",
       "      <th>AbsentHours</th>\n",
       "      <th>BusinessUnit</th>\n",
       "    </tr>\n",
       "  </thead>\n",
       "  <tbody>\n",
       "    <tr>\n",
       "      <th>8331</th>\n",
       "      <td>8332</td>\n",
       "      <td>Coniglio</td>\n",
       "      <td>Bianca</td>\n",
       "      <td>F</td>\n",
       "      <td>Langley</td>\n",
       "      <td>Cashier</td>\n",
       "      <td>Customer Service</td>\n",
       "      <td>Langley</td>\n",
       "      <td>Stores</td>\n",
       "      <td>46.057544</td>\n",
       "      <td>4.838288</td>\n",
       "      <td>93.665111</td>\n",
       "      <td>Stores</td>\n",
       "    </tr>\n",
       "    <tr>\n",
       "      <th>8332</th>\n",
       "      <td>8333</td>\n",
       "      <td>Cox</td>\n",
       "      <td>Jimmie</td>\n",
       "      <td>M</td>\n",
       "      <td>Montney</td>\n",
       "      <td>Cashier</td>\n",
       "      <td>Customer Service</td>\n",
       "      <td>Fort St John</td>\n",
       "      <td>Stores</td>\n",
       "      <td>34.455490</td>\n",
       "      <td>2.427274</td>\n",
       "      <td>0.000000</td>\n",
       "      <td>Stores</td>\n",
       "    </tr>\n",
       "    <tr>\n",
       "      <th>8333</th>\n",
       "      <td>8334</td>\n",
       "      <td>Hawkins</td>\n",
       "      <td>Mary</td>\n",
       "      <td>F</td>\n",
       "      <td>West Vancouver</td>\n",
       "      <td>Cashier</td>\n",
       "      <td>Customer Service</td>\n",
       "      <td>West Vancouver</td>\n",
       "      <td>Stores</td>\n",
       "      <td>58.347160</td>\n",
       "      <td>4.009393</td>\n",
       "      <td>176.356940</td>\n",
       "      <td>Stores</td>\n",
       "    </tr>\n",
       "    <tr>\n",
       "      <th>8334</th>\n",
       "      <td>8335</td>\n",
       "      <td>Proctor</td>\n",
       "      <td>Theresa</td>\n",
       "      <td>F</td>\n",
       "      <td>Vancouver</td>\n",
       "      <td>Dairy Person</td>\n",
       "      <td>Dairy</td>\n",
       "      <td>Vancouver</td>\n",
       "      <td>Stores</td>\n",
       "      <td>43.340616</td>\n",
       "      <td>6.154837</td>\n",
       "      <td>60.321917</td>\n",
       "      <td>Stores</td>\n",
       "    </tr>\n",
       "    <tr>\n",
       "      <th>8335</th>\n",
       "      <td>8336</td>\n",
       "      <td>Salter</td>\n",
       "      <td>Charles</td>\n",
       "      <td>M</td>\n",
       "      <td>Vancouver</td>\n",
       "      <td>Dairy Person</td>\n",
       "      <td>Dairy</td>\n",
       "      <td>Vancouver</td>\n",
       "      <td>Stores</td>\n",
       "      <td>46.192782</td>\n",
       "      <td>5.174722</td>\n",
       "      <td>112.023389</td>\n",
       "      <td>Stores</td>\n",
       "    </tr>\n",
       "  </tbody>\n",
       "</table>\n",
       "</div>"
      ],
      "text/plain": [
       "      EmployeeNumber   Surname GivenName Gender            City      JobTitle  \\\n",
       "8331            8332  Coniglio    Bianca      F         Langley       Cashier   \n",
       "8332            8333       Cox    Jimmie      M         Montney       Cashier   \n",
       "8333            8334   Hawkins      Mary      F  West Vancouver       Cashier   \n",
       "8334            8335   Proctor   Theresa      F       Vancouver  Dairy Person   \n",
       "8335            8336    Salter   Charles      M       Vancouver  Dairy Person   \n",
       "\n",
       "        DepartmentName   StoreLocation Division        Age  LengthService  \\\n",
       "8331  Customer Service         Langley   Stores  46.057544       4.838288   \n",
       "8332  Customer Service    Fort St John   Stores  34.455490       2.427274   \n",
       "8333  Customer Service  West Vancouver   Stores  58.347160       4.009393   \n",
       "8334             Dairy       Vancouver   Stores  43.340616       6.154837   \n",
       "8335             Dairy       Vancouver   Stores  46.192782       5.174722   \n",
       "\n",
       "      AbsentHours BusinessUnit  \n",
       "8331    93.665111       Stores  \n",
       "8332     0.000000       Stores  \n",
       "8333   176.356940       Stores  \n",
       "8334    60.321917       Stores  \n",
       "8335   112.023389       Stores  "
      ]
     },
     "execution_count": 75,
     "metadata": {},
     "output_type": "execute_result"
    }
   ],
   "source": [
    "df_hr.tail()"
   ]
  },
  {
   "cell_type": "markdown",
   "id": "07a32093-f9f0-448f-9cce-3a5389ee0a1e",
   "metadata": {},
   "source": [
    "Разобьем нашу выборку на пространство признаков (X) и ответов (y)"
   ]
  },
  {
   "cell_type": "code",
   "execution_count": 79,
   "id": "a4a16a70-e181-42b1-b27b-3f06003c6818",
   "metadata": {},
   "outputs": [],
   "source": [
    "X = df_hr[['AbsentHours']]\n",
    "y = df_hr[['Age']]"
   ]
  },
  {
   "cell_type": "code",
   "execution_count": 80,
   "id": "9f0f6f23-461f-46c8-a183-c6c1780030a0",
   "metadata": {},
   "outputs": [
    {
     "data": {
      "text/html": [
       "<div>\n",
       "<style scoped>\n",
       "    .dataframe tbody tr th:only-of-type {\n",
       "        vertical-align: middle;\n",
       "    }\n",
       "\n",
       "    .dataframe tbody tr th {\n",
       "        vertical-align: top;\n",
       "    }\n",
       "\n",
       "    .dataframe thead th {\n",
       "        text-align: right;\n",
       "    }\n",
       "</style>\n",
       "<table border=\"1\" class=\"dataframe\">\n",
       "  <thead>\n",
       "    <tr style=\"text-align: right;\">\n",
       "      <th></th>\n",
       "      <th>AbsentHours</th>\n",
       "    </tr>\n",
       "  </thead>\n",
       "  <tbody>\n",
       "    <tr>\n",
       "      <th>0</th>\n",
       "      <td>36.577306</td>\n",
       "    </tr>\n",
       "    <tr>\n",
       "      <th>1</th>\n",
       "      <td>30.165072</td>\n",
       "    </tr>\n",
       "    <tr>\n",
       "      <th>2</th>\n",
       "      <td>83.807798</td>\n",
       "    </tr>\n",
       "    <tr>\n",
       "      <th>3</th>\n",
       "      <td>70.020165</td>\n",
       "    </tr>\n",
       "    <tr>\n",
       "      <th>4</th>\n",
       "      <td>0.000000</td>\n",
       "    </tr>\n",
       "    <tr>\n",
       "      <th>...</th>\n",
       "      <td>...</td>\n",
       "    </tr>\n",
       "    <tr>\n",
       "      <th>8331</th>\n",
       "      <td>93.665111</td>\n",
       "    </tr>\n",
       "    <tr>\n",
       "      <th>8332</th>\n",
       "      <td>0.000000</td>\n",
       "    </tr>\n",
       "    <tr>\n",
       "      <th>8333</th>\n",
       "      <td>176.356940</td>\n",
       "    </tr>\n",
       "    <tr>\n",
       "      <th>8334</th>\n",
       "      <td>60.321917</td>\n",
       "    </tr>\n",
       "    <tr>\n",
       "      <th>8335</th>\n",
       "      <td>112.023389</td>\n",
       "    </tr>\n",
       "  </tbody>\n",
       "</table>\n",
       "<p>8336 rows × 1 columns</p>\n",
       "</div>"
      ],
      "text/plain": [
       "      AbsentHours\n",
       "0       36.577306\n",
       "1       30.165072\n",
       "2       83.807798\n",
       "3       70.020165\n",
       "4        0.000000\n",
       "...           ...\n",
       "8331    93.665111\n",
       "8332     0.000000\n",
       "8333   176.356940\n",
       "8334    60.321917\n",
       "8335   112.023389\n",
       "\n",
       "[8336 rows x 1 columns]"
      ]
     },
     "execution_count": 80,
     "metadata": {},
     "output_type": "execute_result"
    }
   ],
   "source": [
    "# В объекте X у нас оказываются признаки\n",
    "\n",
    "X"
   ]
  },
  {
   "cell_type": "code",
   "execution_count": 81,
   "id": "c5c878f1-b5e8-47b5-afdd-c8aee5a91943",
   "metadata": {},
   "outputs": [
    {
     "data": {
      "text/html": [
       "<div>\n",
       "<style scoped>\n",
       "    .dataframe tbody tr th:only-of-type {\n",
       "        vertical-align: middle;\n",
       "    }\n",
       "\n",
       "    .dataframe tbody tr th {\n",
       "        vertical-align: top;\n",
       "    }\n",
       "\n",
       "    .dataframe thead th {\n",
       "        text-align: right;\n",
       "    }\n",
       "</style>\n",
       "<table border=\"1\" class=\"dataframe\">\n",
       "  <thead>\n",
       "    <tr style=\"text-align: right;\">\n",
       "      <th></th>\n",
       "      <th>Age</th>\n",
       "    </tr>\n",
       "  </thead>\n",
       "  <tbody>\n",
       "    <tr>\n",
       "      <th>0</th>\n",
       "      <td>32.028816</td>\n",
       "    </tr>\n",
       "    <tr>\n",
       "      <th>1</th>\n",
       "      <td>40.320902</td>\n",
       "    </tr>\n",
       "    <tr>\n",
       "      <th>2</th>\n",
       "      <td>48.822047</td>\n",
       "    </tr>\n",
       "    <tr>\n",
       "      <th>3</th>\n",
       "      <td>44.599357</td>\n",
       "    </tr>\n",
       "    <tr>\n",
       "      <th>4</th>\n",
       "      <td>35.697876</td>\n",
       "    </tr>\n",
       "    <tr>\n",
       "      <th>...</th>\n",
       "      <td>...</td>\n",
       "    </tr>\n",
       "    <tr>\n",
       "      <th>8331</th>\n",
       "      <td>46.057544</td>\n",
       "    </tr>\n",
       "    <tr>\n",
       "      <th>8332</th>\n",
       "      <td>34.455490</td>\n",
       "    </tr>\n",
       "    <tr>\n",
       "      <th>8333</th>\n",
       "      <td>58.347160</td>\n",
       "    </tr>\n",
       "    <tr>\n",
       "      <th>8334</th>\n",
       "      <td>43.340616</td>\n",
       "    </tr>\n",
       "    <tr>\n",
       "      <th>8335</th>\n",
       "      <td>46.192782</td>\n",
       "    </tr>\n",
       "  </tbody>\n",
       "</table>\n",
       "<p>8336 rows × 1 columns</p>\n",
       "</div>"
      ],
      "text/plain": [
       "            Age\n",
       "0     32.028816\n",
       "1     40.320902\n",
       "2     48.822047\n",
       "3     44.599357\n",
       "4     35.697876\n",
       "...         ...\n",
       "8331  46.057544\n",
       "8332  34.455490\n",
       "8333  58.347160\n",
       "8334  43.340616\n",
       "8335  46.192782\n",
       "\n",
       "[8336 rows x 1 columns]"
      ]
     },
     "execution_count": 81,
     "metadata": {},
     "output_type": "execute_result"
    }
   ],
   "source": [
    "# в объекте 'y' у нас оказываются ответы для этих признаков\n",
    "\n",
    "y"
   ]
  },
  {
   "cell_type": "code",
   "execution_count": 82,
   "id": "6c5ec474-a8c5-47d6-8ac3-5acf13becd6d",
   "metadata": {},
   "outputs": [],
   "source": [
    "from sklearn.model_selection import train_test_split"
   ]
  },
  {
   "cell_type": "code",
   "execution_count": 83,
   "id": "76f7fd71-fc96-45c5-adbb-2241b0efbb34",
   "metadata": {},
   "outputs": [
    {
     "name": "stdout",
     "output_type": "stream",
     "text": [
      "(6668, 1)\n",
      "(1668, 1)\n",
      "(6668, 1)\n",
      "(1668, 1)\n"
     ]
    }
   ],
   "source": [
    "X_train, X_test, Y_train, Y_test = train_test_split(X, y, test_size = 0.2, random_state=42)\n",
    "\n",
    "\n",
    "# Посмотрим каков у нас оказался размер объектов в трейне и тесте\n",
    "print(X_train.shape)\n",
    "print(X_test.shape)\n",
    "print(Y_train.shape)\n",
    "print(Y_test.shape)"
   ]
  },
  {
   "cell_type": "code",
   "execution_count": 84,
   "id": "a5dfab58-c06f-4491-ad4d-ed9948863282",
   "metadata": {},
   "outputs": [
    {
     "data": {
      "text/html": [
       "<div>\n",
       "<style scoped>\n",
       "    .dataframe tbody tr th:only-of-type {\n",
       "        vertical-align: middle;\n",
       "    }\n",
       "\n",
       "    .dataframe tbody tr th {\n",
       "        vertical-align: top;\n",
       "    }\n",
       "\n",
       "    .dataframe thead th {\n",
       "        text-align: right;\n",
       "    }\n",
       "</style>\n",
       "<table border=\"1\" class=\"dataframe\">\n",
       "  <thead>\n",
       "    <tr style=\"text-align: right;\">\n",
       "      <th></th>\n",
       "      <th>Age</th>\n",
       "    </tr>\n",
       "  </thead>\n",
       "  <tbody>\n",
       "    <tr>\n",
       "      <th>3470</th>\n",
       "      <td>59.790107</td>\n",
       "    </tr>\n",
       "    <tr>\n",
       "      <th>2301</th>\n",
       "      <td>27.064876</td>\n",
       "    </tr>\n",
       "    <tr>\n",
       "      <th>7979</th>\n",
       "      <td>25.199267</td>\n",
       "    </tr>\n",
       "    <tr>\n",
       "      <th>932</th>\n",
       "      <td>32.634324</td>\n",
       "    </tr>\n",
       "    <tr>\n",
       "      <th>7466</th>\n",
       "      <td>50.664280</td>\n",
       "    </tr>\n",
       "    <tr>\n",
       "      <th>...</th>\n",
       "      <td>...</td>\n",
       "    </tr>\n",
       "    <tr>\n",
       "      <th>4614</th>\n",
       "      <td>39.610151</td>\n",
       "    </tr>\n",
       "    <tr>\n",
       "      <th>8220</th>\n",
       "      <td>41.712761</td>\n",
       "    </tr>\n",
       "    <tr>\n",
       "      <th>1097</th>\n",
       "      <td>40.213103</td>\n",
       "    </tr>\n",
       "    <tr>\n",
       "      <th>548</th>\n",
       "      <td>46.402244</td>\n",
       "    </tr>\n",
       "    <tr>\n",
       "      <th>2899</th>\n",
       "      <td>55.498153</td>\n",
       "    </tr>\n",
       "  </tbody>\n",
       "</table>\n",
       "<p>1668 rows × 1 columns</p>\n",
       "</div>"
      ],
      "text/plain": [
       "            Age\n",
       "3470  59.790107\n",
       "2301  27.064876\n",
       "7979  25.199267\n",
       "932   32.634324\n",
       "7466  50.664280\n",
       "...         ...\n",
       "4614  39.610151\n",
       "8220  41.712761\n",
       "1097  40.213103\n",
       "548   46.402244\n",
       "2899  55.498153\n",
       "\n",
       "[1668 rows x 1 columns]"
      ]
     },
     "execution_count": 84,
     "metadata": {},
     "output_type": "execute_result"
    }
   ],
   "source": [
    "Y_test"
   ]
  },
  {
   "cell_type": "markdown",
   "id": "7b488a08-60eb-4950-bb82-b370652c05b3",
   "metadata": {},
   "source": [
    "# Часть 5. Подготовка и обучение модели"
   ]
  },
  {
   "cell_type": "code",
   "execution_count": 85,
   "id": "fa121153-afe9-4a06-8c03-71dc2d249f5b",
   "metadata": {},
   "outputs": [
    {
     "data": {
      "text/plain": [
       "LinearRegression()"
      ]
     },
     "execution_count": 85,
     "metadata": {},
     "output_type": "execute_result"
    }
   ],
   "source": [
    "lin_model = LinearRegression()\n",
    "lin_model.fit(X_train, Y_train)"
   ]
  },
  {
   "cell_type": "code",
   "execution_count": 86,
   "id": "2467faab-1673-4e03-8c64-34ddf65e29a7",
   "metadata": {},
   "outputs": [
    {
     "name": "stdout",
     "output_type": "stream",
     "text": [
      "[[0.16828373]]\n"
     ]
    }
   ],
   "source": [
    "# посмотрим, какие из наших признаков оказались наиболее значимыми для определения зарплаты на объектах\n",
    "importance = regressor.coef_\n",
    "\n",
    "print(importance)"
   ]
  },
  {
   "cell_type": "code",
   "execution_count": 87,
   "id": "08f1336b-a1d0-487f-9c2d-507c1967c027",
   "metadata": {},
   "outputs": [],
   "source": [
    "from sklearn.metrics import mean_squared_error\n",
    "from sklearn.metrics import r2_score"
   ]
  },
  {
   "cell_type": "code",
   "execution_count": 90,
   "id": "3bb4fd5a-4120-44e8-b6d6-d6d77c2e3e10",
   "metadata": {},
   "outputs": [],
   "source": [
    "# Определим функцию оценки ошибки получившейся модели:\n",
    "\n",
    "def model_access(lin_model, X_train, X_test, Y_train, Y_test):\n",
    "\n",
    "    # model evaluation for training set\n",
    "    y_train_predict = lin_model.predict(X_train)\n",
    "    rmse = (np.sqrt(mean_squared_error(Y_train, y_train_predict)))\n",
    "    r2 = r2_score(Y_train, y_train_predict)\n",
    "\n",
    "    \n",
    "    print(\"\\n\")\n",
    "    print(\"The model performance for training set\")\n",
    "    print(\"--------------------------------------\")\n",
    "    print('RMSE is {}'.format(rmse))\n",
    "    print('R2 score is {}'.format(r2))\n",
    "    print(\"--------------------------------------\")\n",
    "    print(\"\\n\")\n",
    "\n",
    "    \n",
    "    # model evaluation for testing set\n",
    "    y_test_predict = lin_model.predict(X_test)\n",
    "    rmse = (np.sqrt(mean_squared_error(Y_test, y_test_predict)))\n",
    "    r2 = r2_score(Y_test, y_test_predict)\n",
    "\n",
    "    print(\"The model performance for testing set\")\n",
    "    print(\"--------------------------------------\")\n",
    "    print('RMSE is {}'.format(rmse))\n",
    "    print('R2 score is {}'.format(r2))"
   ]
  },
  {
   "cell_type": "markdown",
   "id": "c359e0f8-f254-42ed-b45b-9c586016ed9e",
   "metadata": {},
   "source": [
    "Попробуем теперь эту модель в деле.\n",
    "\n",
    "По канону оценку следует на двух выборках: на той, на которой модель тренировалась (X_train, Y_train) и на той, которую модель не видела совсем (X_test, Y_test)"
   ]
  },
  {
   "cell_type": "code",
   "execution_count": 91,
   "id": "ba1113a1-7d63-4e56-b958-2c67178e2ae4",
   "metadata": {},
   "outputs": [
    {
     "name": "stdout",
     "output_type": "stream",
     "text": [
      "\n",
      "\n",
      "The model performance for training set\n",
      "--------------------------------------\n",
      "RMSE is 5.520287749868934\n",
      "R2 score is 0.696503416143718\n",
      "--------------------------------------\n",
      "\n",
      "\n",
      "The model performance for testing set\n",
      "--------------------------------------\n",
      "RMSE is 5.620751194005099\n",
      "R2 score is 0.6573982947090804\n"
     ]
    }
   ],
   "source": [
    "model_access(lin_model, X_train, X_test, Y_train, Y_test)"
   ]
  },
  {
   "cell_type": "code",
   "execution_count": 92,
   "id": "a487f171-6b5c-452a-82b7-d1d3dea23e49",
   "metadata": {},
   "outputs": [
    {
     "data": {
      "text/html": [
       "<div>\n",
       "<style scoped>\n",
       "    .dataframe tbody tr th:only-of-type {\n",
       "        vertical-align: middle;\n",
       "    }\n",
       "\n",
       "    .dataframe tbody tr th {\n",
       "        vertical-align: top;\n",
       "    }\n",
       "\n",
       "    .dataframe thead th {\n",
       "        text-align: right;\n",
       "    }\n",
       "</style>\n",
       "<table border=\"1\" class=\"dataframe\">\n",
       "  <thead>\n",
       "    <tr style=\"text-align: right;\">\n",
       "      <th></th>\n",
       "      <th>AbsentHours</th>\n",
       "    </tr>\n",
       "  </thead>\n",
       "  <tbody>\n",
       "    <tr>\n",
       "      <th>3470</th>\n",
       "      <td>182.480514</td>\n",
       "    </tr>\n",
       "    <tr>\n",
       "      <th>2301</th>\n",
       "      <td>0.000000</td>\n",
       "    </tr>\n",
       "    <tr>\n",
       "      <th>7979</th>\n",
       "      <td>0.000000</td>\n",
       "    </tr>\n",
       "    <tr>\n",
       "      <th>932</th>\n",
       "      <td>25.175315</td>\n",
       "    </tr>\n",
       "    <tr>\n",
       "      <th>7466</th>\n",
       "      <td>66.640780</td>\n",
       "    </tr>\n",
       "    <tr>\n",
       "      <th>...</th>\n",
       "      <td>...</td>\n",
       "    </tr>\n",
       "    <tr>\n",
       "      <th>4614</th>\n",
       "      <td>46.044958</td>\n",
       "    </tr>\n",
       "    <tr>\n",
       "      <th>8220</th>\n",
       "      <td>51.779124</td>\n",
       "    </tr>\n",
       "    <tr>\n",
       "      <th>1097</th>\n",
       "      <td>5.957262</td>\n",
       "    </tr>\n",
       "    <tr>\n",
       "      <th>548</th>\n",
       "      <td>109.553438</td>\n",
       "    </tr>\n",
       "    <tr>\n",
       "      <th>2899</th>\n",
       "      <td>178.107714</td>\n",
       "    </tr>\n",
       "  </tbody>\n",
       "</table>\n",
       "<p>1668 rows × 1 columns</p>\n",
       "</div>"
      ],
      "text/plain": [
       "      AbsentHours\n",
       "3470   182.480514\n",
       "2301     0.000000\n",
       "7979     0.000000\n",
       "932     25.175315\n",
       "7466    66.640780\n",
       "...           ...\n",
       "4614    46.044958\n",
       "8220    51.779124\n",
       "1097     5.957262\n",
       "548    109.553438\n",
       "2899   178.107714\n",
       "\n",
       "[1668 rows x 1 columns]"
      ]
     },
     "execution_count": 92,
     "metadata": {},
     "output_type": "execute_result"
    }
   ],
   "source": [
    "X_test"
   ]
  },
  {
   "cell_type": "code",
   "execution_count": 101,
   "id": "4cdc7e1f-0c1d-4777-ba84-07e5104b53e4",
   "metadata": {},
   "outputs": [
    {
     "data": {
      "text/plain": [
       "array([[37.20293983]])"
      ]
     },
     "execution_count": 101,
     "metadata": {},
     "output_type": "execute_result"
    }
   ],
   "source": [
    "\"\"\"\n",
    "Допустим, к нам на работу выходит человек в возрасте 33 года: \n",
    "\n",
    "Age = 33\n",
    "\n",
    "Каково ожидаемое количество часов, проведенных вне рабочего места?\n",
    "\n",
    "Выясним это, используя метод .predict() только что обученной модели lin_model. \n",
    "Передадим в него параметры сотрудника. \n",
    "\n",
    "\"\"\"\n",
    "\n",
    "lin_model.predict([[33]])"
   ]
  },
  {
   "cell_type": "markdown",
   "id": "8a4c134c-7a4c-4aa7-ace8-18ad1ba28e1f",
   "metadata": {},
   "source": [
    "То есть у человеку в возрасте 33 года соответствуют примено 37 часов абсентеизма."
   ]
  },
  {
   "cell_type": "markdown",
   "id": "7e19d5eb-88ec-409b-ad00-cc30c8875d19",
   "metadata": {},
   "source": [
    "А потом я еще погуглила, как нарисовать эту линейную регрессию. Получилось что-то типа того:"
   ]
  },
  {
   "cell_type": "code",
   "execution_count": 57,
   "id": "6e6f87aa-c883-45fe-b517-bc2c7e0e62a9",
   "metadata": {},
   "outputs": [],
   "source": [
    "import numpy as np\n",
    "import matplotlib.pyplot as plt\n",
    "import pandas as pd\n",
    "from sklearn.linear_model import LinearRegression"
   ]
  },
  {
   "cell_type": "code",
   "execution_count": 59,
   "id": "ed193f42-59eb-4c0e-9f76-ee415581a2d0",
   "metadata": {},
   "outputs": [],
   "source": [
    "dataset = pd.read_csv('Absenteeism Dataset.csv')\n",
    "X = dataset[[\"AbsentHours\"]]\n",
    "y = dataset[[\"Age\"]]"
   ]
  },
  {
   "cell_type": "code",
   "execution_count": 60,
   "id": "adc6eb77-7aac-40b3-bbc3-99df03d7fd18",
   "metadata": {},
   "outputs": [
    {
     "data": {
      "text/plain": [
       "LinearRegression()"
      ]
     },
     "execution_count": 60,
     "metadata": {},
     "output_type": "execute_result"
    }
   ],
   "source": [
    "regressor = LinearRegression()\n",
    "regressor.fit(X, y)"
   ]
  },
  {
   "cell_type": "code",
   "execution_count": 61,
   "id": "db422edb-3920-4fa9-8b66-c4847141677d",
   "metadata": {},
   "outputs": [],
   "source": [
    "y_pred = regressor.predict(X)"
   ]
  },
  {
   "cell_type": "code",
   "execution_count": 100,
   "id": "8add292e-0c06-4b5d-a432-880aa2875033",
   "metadata": {},
   "outputs": [
    {
     "data": {
      "image/png": "[encoded data removed]",
      "text/plain": [
       "<Figure size 432x288 with 1 Axes>"
      ]
     },
     "metadata": {
      "needs_background": "light"
     },
     "output_type": "display_data"
    }
   ],
   "source": [
    "plt.scatter(X, y, color = 'red')\n",
    "plt.plot(X, regressor.predict(X), color = 'blue')\n",
    "plt.title('AbsentHours vs Age')\n",
    "plt.xlabel('AbsentHours')\n",
    "plt.ylabel('Age')\n",
    "plt.show()"
   ]
  },
  {
   "cell_type": "markdown",
   "id": "b17abe86-948e-481c-a189-fa333b7f3f86",
   "metadata": {},
   "source": [
    "# Часть 6. Выводы\n",
    "\n",
    "Таким образом, у нас получилось небольшое исследование, основанное буквально на нескольких переменных.\n",
    "\n",
    "Нам удалось:\n",
    "- описать датасет (посмотреть, какая информация скрывается за этими строками)\n",
    "- сформулировать и проверить гипотезы о связи между переменными (так, было выяснено, что возраст сотрудника влияет на кол-во часов, проведенных сотрудников вне рабочего места)\n",
    "- создать модель предсказания кол-ва часов абсентеизма в зависимости от возраста сотрудника на основе линейной регрессии\n",
    "\n",
    "Среди ограничений и будущих направлений исследования можно назвать:\n",
    "1. изучение корреляции между кол-вом часов абсентеизма и другими текстовыми переменными путем их кодирования\n",
    "2. далее станет возможным построить линейную регрессионную модель с тектовыми переменными\n",
    "\n",
    "# The End\n",
    "Made by Lisa Alexeeva"
   ]
  }
 ],
 "metadata": {
  "kernelspec": {
   "display_name": "Python 3",
   "language": "python",
   "name": "python3"
  },
  "language_info": {
   "codemirror_mode": {
    "name": "ipython",
    "version": 3
   },
   "file_extension": ".py",
   "mimetype": "text/x-python",
   "name": "python",
   "nbconvert_exporter": "python",
   "pygments_lexer": "ipython3",
   "version": "3.8.8"
  }
 },
 "nbformat": 4,
 "nbformat_minor": 5
}
